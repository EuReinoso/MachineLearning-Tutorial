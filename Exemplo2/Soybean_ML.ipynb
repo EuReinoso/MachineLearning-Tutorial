{
 "metadata": {
  "orig_nbformat": 2,
  "kernelspec": {
   "name": "python3",
   "display_name": "Python 3",
   "language": "python"
  }
 },
 "nbformat": 4,
 "nbformat_minor": 2,
 "cells": [
  {
   "source": [
    "# Introdução\n",
    "\n",
    "Olá, bem vindo ao Exemplo 2 de Machine Learning! Neste modulo vamos lidar com um dataset de nome Soybean, que trata de doenças na plantação de soja, queremos fazer previsões da coluna `class`. É um dataset bem extenso, com mais de 30 atributos (colunas), porém não se assuste. Ele vai ser ainda mais fácil de criar um modelo, pois não precisa de muitos tratamentos."
   ],
   "cell_type": "markdown",
   "metadata": {}
  },
  {
   "source": [
    "# Analisando os dados\n",
    "\n",
    "Importando bibliotecas"
   ],
   "cell_type": "markdown",
   "metadata": {}
  },
  {
   "cell_type": "code",
   "execution_count": 4,
   "metadata": {},
   "outputs": [],
   "source": [
    "import pandas as pd"
   ]
  },
  {
   "source": [
    "Lendo Dataset"
   ],
   "cell_type": "markdown",
   "metadata": {}
  },
  {
   "cell_type": "code",
   "execution_count": 6,
   "metadata": {},
   "outputs": [],
   "source": [
    "dataset = pd.read_csv('soybean.csv')"
   ]
  },
  {
   "source": [
    "## Visualizando Dataset\n",
    "\n",
    "Como podemos ver o dataset é muito grande, então você se pergunta: Vamos precisar analisar coluna por coluna? Sim e não. Durtante o trabalho um Cientísta de Dados, muitas vezes, tem que lidar com dados gigantescos e quase sempre apresentam erros, mas existem técnicas para facilitar esse processo.\n",
    "\n",
    "Acompanhe:"
   ],
   "cell_type": "markdown",
   "metadata": {}
  },
  {
   "cell_type": "code",
   "execution_count": 7,
   "metadata": {},
   "outputs": [
    {
     "output_type": "execute_result",
     "data": {
      "text/plain": [
       "      date plant-stand   precip  temp hail         crop-hist area-damaged  \\\n",
       "0  october      normal  gt-norm  norm  yes       same-lst-yr    low-areas   \n",
       "1   august      normal  gt-norm  norm  yes  same-lst-two-yrs    scattered   \n",
       "2     july      normal  gt-norm  norm  yes       same-lst-yr    scattered   \n",
       "3     july      normal  gt-norm  norm  yes       same-lst-yr    scattered   \n",
       "4  october      normal  gt-norm  norm  yes  same-lst-two-yrs    scattered   \n",
       "\n",
       "     severity   seed-tmt germination  ... sclerotia fruit-pods fruit-spots  \\\n",
       "0  pot-severe       none      90-100  ...    absent       norm         dna   \n",
       "1      severe  fungicide       80-89  ...    absent       norm         dna   \n",
       "2      severe  fungicide       lt-80  ...    absent       norm         dna   \n",
       "3      severe       none       80-89  ...    absent       norm         dna   \n",
       "4  pot-severe       none       lt-80  ...    absent       norm         dna   \n",
       "\n",
       "   seed mold-growth seed-discolor seed-size shriveling roots  \\\n",
       "0  norm      absent        absent      norm     absent  norm   \n",
       "1  norm      absent        absent      norm     absent  norm   \n",
       "2  norm      absent        absent      norm     absent  norm   \n",
       "3  norm      absent        absent      norm     absent  norm   \n",
       "4  norm      absent        absent      norm     absent  norm   \n",
       "\n",
       "                   class  \n",
       "0  diaporthe-stem-canker  \n",
       "1  diaporthe-stem-canker  \n",
       "2  diaporthe-stem-canker  \n",
       "3  diaporthe-stem-canker  \n",
       "4  diaporthe-stem-canker  \n",
       "\n",
       "[5 rows x 36 columns]"
      ],
      "text/html": "<div>\n<style scoped>\n    .dataframe tbody tr th:only-of-type {\n        vertical-align: middle;\n    }\n\n    .dataframe tbody tr th {\n        vertical-align: top;\n    }\n\n    .dataframe thead th {\n        text-align: right;\n    }\n</style>\n<table border=\"1\" class=\"dataframe\">\n  <thead>\n    <tr style=\"text-align: right;\">\n      <th></th>\n      <th>date</th>\n      <th>plant-stand</th>\n      <th>precip</th>\n      <th>temp</th>\n      <th>hail</th>\n      <th>crop-hist</th>\n      <th>area-damaged</th>\n      <th>severity</th>\n      <th>seed-tmt</th>\n      <th>germination</th>\n      <th>...</th>\n      <th>sclerotia</th>\n      <th>fruit-pods</th>\n      <th>fruit-spots</th>\n      <th>seed</th>\n      <th>mold-growth</th>\n      <th>seed-discolor</th>\n      <th>seed-size</th>\n      <th>shriveling</th>\n      <th>roots</th>\n      <th>class</th>\n    </tr>\n  </thead>\n  <tbody>\n    <tr>\n      <th>0</th>\n      <td>october</td>\n      <td>normal</td>\n      <td>gt-norm</td>\n      <td>norm</td>\n      <td>yes</td>\n      <td>same-lst-yr</td>\n      <td>low-areas</td>\n      <td>pot-severe</td>\n      <td>none</td>\n      <td>90-100</td>\n      <td>...</td>\n      <td>absent</td>\n      <td>norm</td>\n      <td>dna</td>\n      <td>norm</td>\n      <td>absent</td>\n      <td>absent</td>\n      <td>norm</td>\n      <td>absent</td>\n      <td>norm</td>\n      <td>diaporthe-stem-canker</td>\n    </tr>\n    <tr>\n      <th>1</th>\n      <td>august</td>\n      <td>normal</td>\n      <td>gt-norm</td>\n      <td>norm</td>\n      <td>yes</td>\n      <td>same-lst-two-yrs</td>\n      <td>scattered</td>\n      <td>severe</td>\n      <td>fungicide</td>\n      <td>80-89</td>\n      <td>...</td>\n      <td>absent</td>\n      <td>norm</td>\n      <td>dna</td>\n      <td>norm</td>\n      <td>absent</td>\n      <td>absent</td>\n      <td>norm</td>\n      <td>absent</td>\n      <td>norm</td>\n      <td>diaporthe-stem-canker</td>\n    </tr>\n    <tr>\n      <th>2</th>\n      <td>july</td>\n      <td>normal</td>\n      <td>gt-norm</td>\n      <td>norm</td>\n      <td>yes</td>\n      <td>same-lst-yr</td>\n      <td>scattered</td>\n      <td>severe</td>\n      <td>fungicide</td>\n      <td>lt-80</td>\n      <td>...</td>\n      <td>absent</td>\n      <td>norm</td>\n      <td>dna</td>\n      <td>norm</td>\n      <td>absent</td>\n      <td>absent</td>\n      <td>norm</td>\n      <td>absent</td>\n      <td>norm</td>\n      <td>diaporthe-stem-canker</td>\n    </tr>\n    <tr>\n      <th>3</th>\n      <td>july</td>\n      <td>normal</td>\n      <td>gt-norm</td>\n      <td>norm</td>\n      <td>yes</td>\n      <td>same-lst-yr</td>\n      <td>scattered</td>\n      <td>severe</td>\n      <td>none</td>\n      <td>80-89</td>\n      <td>...</td>\n      <td>absent</td>\n      <td>norm</td>\n      <td>dna</td>\n      <td>norm</td>\n      <td>absent</td>\n      <td>absent</td>\n      <td>norm</td>\n      <td>absent</td>\n      <td>norm</td>\n      <td>diaporthe-stem-canker</td>\n    </tr>\n    <tr>\n      <th>4</th>\n      <td>october</td>\n      <td>normal</td>\n      <td>gt-norm</td>\n      <td>norm</td>\n      <td>yes</td>\n      <td>same-lst-two-yrs</td>\n      <td>scattered</td>\n      <td>pot-severe</td>\n      <td>none</td>\n      <td>lt-80</td>\n      <td>...</td>\n      <td>absent</td>\n      <td>norm</td>\n      <td>dna</td>\n      <td>norm</td>\n      <td>absent</td>\n      <td>absent</td>\n      <td>norm</td>\n      <td>absent</td>\n      <td>norm</td>\n      <td>diaporthe-stem-canker</td>\n    </tr>\n  </tbody>\n</table>\n<p>5 rows × 36 columns</p>\n</div>"
     },
     "metadata": {},
     "execution_count": 7
    }
   ],
   "source": [
    "dataset.head()"
   ]
  },
  {
   "source": [
    "## Info\n",
    "\n",
    "Usando o método `info()` podemos ver todas as colunas, e se há algum valor NaN (faltando), se dermos uma olhada todos os atributos apresentam `683` valores `non-null` do tipo object (categórico). \n",
    "\n",
    "Por sorte nenhuma coluna tem valores NaN então o único tratamento que devemos fazer é passar os valores categóricos para numéricos."
   ],
   "cell_type": "markdown",
   "metadata": {}
  },
  {
   "source": [
    "dataset.info()"
   ],
   "cell_type": "code",
   "metadata": {},
   "execution_count": 8,
   "outputs": [
    {
     "output_type": "stream",
     "name": "stdout",
     "text": [
      "<class 'pandas.core.frame.DataFrame'>\nRangeIndex: 683 entries, 0 to 682\nData columns (total 36 columns):\n #   Column           Non-Null Count  Dtype \n---  ------           --------------  ----- \n 0   date             683 non-null    object\n 1   plant-stand      683 non-null    object\n 2   precip           683 non-null    object\n 3   temp             683 non-null    object\n 4   hail             683 non-null    object\n 5   crop-hist        683 non-null    object\n 6   area-damaged     683 non-null    object\n 7   severity         683 non-null    object\n 8   seed-tmt         683 non-null    object\n 9   germination      683 non-null    object\n 10  plant-growth     683 non-null    object\n 11  leaves           683 non-null    object\n 12  leafspots-halo   683 non-null    object\n 13  leafspots-marg   683 non-null    object\n 14  leafspot-size    683 non-null    object\n 15  leaf-shread      683 non-null    object\n 16  leaf-malf        683 non-null    object\n 17  leaf-mild        683 non-null    object\n 18  stem             683 non-null    object\n 19  lodging          683 non-null    object\n 20  stem-cankers     683 non-null    object\n 21  canker-lesion    683 non-null    object\n 22  fruiting-bodies  683 non-null    object\n 23  external-decay   683 non-null    object\n 24  mycelium         683 non-null    object\n 25  int-discolor     683 non-null    object\n 26  sclerotia        683 non-null    object\n 27  fruit-pods       683 non-null    object\n 28  fruit-spots      683 non-null    object\n 29  seed             683 non-null    object\n 30  mold-growth      683 non-null    object\n 31  seed-discolor    683 non-null    object\n 32  seed-size        683 non-null    object\n 33  shriveling       683 non-null    object\n 34  roots            683 non-null    object\n 35  class            683 non-null    object\ndtypes: object(36)\nmemory usage: 192.2+ KB\n"
     ]
    }
   ]
  },
  {
   "source": [
    "# Tratando os Dados\n",
    "\n",
    "Agora vamos passar os valores categóricos para numéricos, no `Exemplo1` nós utilizamos a função `map` para isso, mas seria inviável fazer isso nesse dataset dada a quantidade de colunas. Então será apresentado o método `LabelEncoder()` que faz esse processo de forma automática."
   ],
   "cell_type": "markdown",
   "metadata": {}
  },
  {
   "source": [
    "Importando LabelEncoder()"
   ],
   "cell_type": "markdown",
   "metadata": {}
  },
  {
   "cell_type": "code",
   "execution_count": 10,
   "metadata": {},
   "outputs": [],
   "source": [
    "from sklearn.preprocessing import LabelEncoder"
   ]
  },
  {
   "source": [
    "Faremos um loop que vai percorrer todas as colunas do dataser e usar a função `LabelEncoder().fit_transform()` para transformar os valores categóricos em numéricos."
   ],
   "cell_type": "markdown",
   "metadata": {}
  },
  {
   "cell_type": "code",
   "execution_count": 17,
   "metadata": {},
   "outputs": [],
   "source": [
    "#percorrendo as colunas de dataset\n",
    "for i in range(len(dataset.columns)):\n",
    "    dataset.iloc[:,i] = LabelEncoder().fit_transform(dataset.iloc[:,i])"
   ]
  },
  {
   "cell_type": "code",
   "execution_count": null,
   "metadata": {},
   "outputs": [],
   "source": [
    "Agora vamos olhar novamente os dados para ver o resultado:"
   ]
  },
  {
   "cell_type": "code",
   "execution_count": 18,
   "metadata": {},
   "outputs": [
    {
     "output_type": "execute_result",
     "data": {
      "text/plain": [
       "   date  plant-stand  precip  temp  hail  crop-hist  area-damaged  severity  \\\n",
       "0     6            2       1     3     2          4             1         2   \n",
       "1     2            2       1     3     2          3             2         3   \n",
       "2     3            2       1     3     2          4             2         3   \n",
       "3     3            2       1     3     2          4             2         3   \n",
       "4     6            2       1     3     2          3             2         2   \n",
       "\n",
       "   seed-tmt  germination  ...  sclerotia  fruit-pods  fruit-spots  seed  \\\n",
       "0         2            1  ...          1           4            4     2   \n",
       "1         1            0  ...          1           4            4     2   \n",
       "2         1            3  ...          1           4            4     2   \n",
       "3         2            0  ...          1           4            4     2   \n",
       "4         2            3  ...          1           4            4     2   \n",
       "\n",
       "   mold-growth  seed-discolor  seed-size  shriveling  roots  class  \n",
       "0            1              1          2           1      2     10  \n",
       "1            1              1          2           1      2     10  \n",
       "2            1              1          2           1      2     10  \n",
       "3            1              1          2           1      2     10  \n",
       "4            1              1          2           1      2     10  \n",
       "\n",
       "[5 rows x 36 columns]"
      ],
      "text/html": "<div>\n<style scoped>\n    .dataframe tbody tr th:only-of-type {\n        vertical-align: middle;\n    }\n\n    .dataframe tbody tr th {\n        vertical-align: top;\n    }\n\n    .dataframe thead th {\n        text-align: right;\n    }\n</style>\n<table border=\"1\" class=\"dataframe\">\n  <thead>\n    <tr style=\"text-align: right;\">\n      <th></th>\n      <th>date</th>\n      <th>plant-stand</th>\n      <th>precip</th>\n      <th>temp</th>\n      <th>hail</th>\n      <th>crop-hist</th>\n      <th>area-damaged</th>\n      <th>severity</th>\n      <th>seed-tmt</th>\n      <th>germination</th>\n      <th>...</th>\n      <th>sclerotia</th>\n      <th>fruit-pods</th>\n      <th>fruit-spots</th>\n      <th>seed</th>\n      <th>mold-growth</th>\n      <th>seed-discolor</th>\n      <th>seed-size</th>\n      <th>shriveling</th>\n      <th>roots</th>\n      <th>class</th>\n    </tr>\n  </thead>\n  <tbody>\n    <tr>\n      <th>0</th>\n      <td>6</td>\n      <td>2</td>\n      <td>1</td>\n      <td>3</td>\n      <td>2</td>\n      <td>4</td>\n      <td>1</td>\n      <td>2</td>\n      <td>2</td>\n      <td>1</td>\n      <td>...</td>\n      <td>1</td>\n      <td>4</td>\n      <td>4</td>\n      <td>2</td>\n      <td>1</td>\n      <td>1</td>\n      <td>2</td>\n      <td>1</td>\n      <td>2</td>\n      <td>10</td>\n    </tr>\n    <tr>\n      <th>1</th>\n      <td>2</td>\n      <td>2</td>\n      <td>1</td>\n      <td>3</td>\n      <td>2</td>\n      <td>3</td>\n      <td>2</td>\n      <td>3</td>\n      <td>1</td>\n      <td>0</td>\n      <td>...</td>\n      <td>1</td>\n      <td>4</td>\n      <td>4</td>\n      <td>2</td>\n      <td>1</td>\n      <td>1</td>\n      <td>2</td>\n      <td>1</td>\n      <td>2</td>\n      <td>10</td>\n    </tr>\n    <tr>\n      <th>2</th>\n      <td>3</td>\n      <td>2</td>\n      <td>1</td>\n      <td>3</td>\n      <td>2</td>\n      <td>4</td>\n      <td>2</td>\n      <td>3</td>\n      <td>1</td>\n      <td>3</td>\n      <td>...</td>\n      <td>1</td>\n      <td>4</td>\n      <td>4</td>\n      <td>2</td>\n      <td>1</td>\n      <td>1</td>\n      <td>2</td>\n      <td>1</td>\n      <td>2</td>\n      <td>10</td>\n    </tr>\n    <tr>\n      <th>3</th>\n      <td>3</td>\n      <td>2</td>\n      <td>1</td>\n      <td>3</td>\n      <td>2</td>\n      <td>4</td>\n      <td>2</td>\n      <td>3</td>\n      <td>2</td>\n      <td>0</td>\n      <td>...</td>\n      <td>1</td>\n      <td>4</td>\n      <td>4</td>\n      <td>2</td>\n      <td>1</td>\n      <td>1</td>\n      <td>2</td>\n      <td>1</td>\n      <td>2</td>\n      <td>10</td>\n    </tr>\n    <tr>\n      <th>4</th>\n      <td>6</td>\n      <td>2</td>\n      <td>1</td>\n      <td>3</td>\n      <td>2</td>\n      <td>3</td>\n      <td>2</td>\n      <td>2</td>\n      <td>2</td>\n      <td>3</td>\n      <td>...</td>\n      <td>1</td>\n      <td>4</td>\n      <td>4</td>\n      <td>2</td>\n      <td>1</td>\n      <td>1</td>\n      <td>2</td>\n      <td>1</td>\n      <td>2</td>\n      <td>10</td>\n    </tr>\n  </tbody>\n</table>\n<p>5 rows × 36 columns</p>\n</div>"
     },
     "metadata": {},
     "execution_count": 18
    }
   ],
   "source": [
    "dataset.head()"
   ]
  },
  {
   "source": [
    "# Treinamento\n",
    "\n",
    "Com os valores transformados para numéricos, podemos fazer a separação de treino e teste e criar nosso modelo."
   ],
   "cell_type": "markdown",
   "metadata": {}
  },
  {
   "source": [
    "Separando previsores da classe"
   ],
   "cell_type": "markdown",
   "metadata": {}
  },
  {
   "cell_type": "code",
   "execution_count": 23,
   "metadata": {},
   "outputs": [],
   "source": [
    "X = dataset.iloc[:,:35].values\n",
    "y = dataset.iloc[:,35].values\n"
   ]
  },
  {
   "source": [
    "Importando função train_test_split para separar treino e teste"
   ],
   "cell_type": "markdown",
   "metadata": {}
  },
  {
   "source": [
    "from sklearn.model_selection import train_test_split"
   ],
   "cell_type": "code",
   "metadata": {},
   "execution_count": 20,
   "outputs": []
  },
  {
   "source": [
    "Para separar as listas de treino e teste, faremos como no `Exemplo1`, que criamos uma lista com vários conjuntos de treinos e testes, para diminuir o impácto dos valores randômicos nos resultados."
   ],
   "cell_type": "markdown",
   "metadata": {}
  },
  {
   "cell_type": "code",
   "execution_count": 24,
   "metadata": {},
   "outputs": [],
   "source": [
    "X_treino_lista, X_teste_lista, y_treino_lista, y_teste_lista = [], [], [], []\n",
    "\n",
    "rep = 20\n",
    "\n",
    "for i in range(rep):\n",
    "    X_treino, X_teste, y_treino, y_teste = train_test_split(X, y, random_state= i)\n",
    "\n",
    "    X_treino_lista.append(X_treino)\n",
    "    X_teste_lista.append(X_teste)\n",
    "    y_treino_lista.append(y_treino)\n",
    "    y_teste_lista.append(y_teste)"
   ]
  },
  {
   "source": [
    "## Classificando\n",
    "\n",
    "Agora que temos conjuntos de treino e teste, assim como no Exemplo passado faremos uma avaliação de precisão com alguns classificadores principais.\n",
    "\n",
    "Importando classificadores"
   ],
   "cell_type": "markdown",
   "metadata": {}
  },
  {
   "cell_type": "code",
   "execution_count": 25,
   "metadata": {},
   "outputs": [],
   "source": [
    "from sklearn.ensemble import RandomForestClassifier\n",
    "from sklearn.tree import DecisionTreeClassifier\n",
    "from sklearn.naive_bayes import GaussianNB\n",
    "from sklearn.neighbors import KNeighborsClassifier\n",
    "\n",
    "classificadores = [\n",
    "    RandomForestClassifier(100),\n",
    "    DecisionTreeClassifier(),\n",
    "    GaussianNB(),\n",
    "    KNeighborsClassifier(3)\n",
    "]"
   ]
  },
  {
   "source": [
    "Faremos um teste de precisão com cada classificador para saber qual se sai melhor com esse dataset:"
   ],
   "cell_type": "markdown",
   "metadata": {}
  },
  {
   "cell_type": "code",
   "execution_count": 31,
   "metadata": {},
   "outputs": [
    {
     "output_type": "execute_result",
     "data": {
      "text/plain": [
       "[0.9371345029239766,\n",
       " 0.9184210526315788,\n",
       " 0.8461988304093566,\n",
       " 0.8026315789473684]"
      ]
     },
     "metadata": {},
     "execution_count": 31
    }
   ],
   "source": [
    "#Importando biblioteca de teste de acuracia\n",
    "from sklearn.metrics import accuracy_score\n",
    "import numpy as np\n",
    "\n",
    "precisoes_media = []\n",
    "nome_classificadores = []\n",
    "\n",
    "for clf in classificadores:\n",
    "    precisoes = []\n",
    "    nome_classificadores.append(clf.__name__)\n",
    "    for i in range(rep):\n",
    "        #treinando\n",
    "        clf.fit(X_treino_lista[i], y_treino_lista[i])\n",
    "        #previsão\n",
    "        p = clf.predict(X_teste_lista[i])\n",
    "        #adicionando a precisoes, teste de acurácia\n",
    "        precisoes.append(accuracy_score(p, y_teste_lista[i]))\n",
    "    # adicionando media das preciões \n",
    "    precisoes_media.append(np.mean(precisoes))\n",
    "\n",
    "precisoes_media"
   ]
  },
  {
   "cell_type": "code",
   "execution_count": 33,
   "metadata": {},
   "outputs": [],
   "source": [
    "import matplotlib.pyplot as plt"
   ]
  },
  {
   "cell_type": "code",
   "execution_count": 43,
   "metadata": {},
   "outputs": [
    {
     "output_type": "display_data",
     "data": {
      "text/plain": "<Figure size 432x288 with 1 Axes>",
      "image/svg+xml": "<?xml version=\"1.0\" encoding=\"utf-8\" standalone=\"no\"?>\n<!DOCTYPE svg PUBLIC \"-//W3C//DTD SVG 1.1//EN\"\n  \"http://www.w3.org/Graphics/SVG/1.1/DTD/svg11.dtd\">\n<svg height=\"248.518125pt\" version=\"1.1\" viewBox=\"0 0 428.273437 248.518125\" width=\"428.273437pt\" xmlns=\"http://www.w3.org/2000/svg\" xmlns:xlink=\"http://www.w3.org/1999/xlink\">\n <metadata>\n  <rdf:RDF xmlns:cc=\"http://creativecommons.org/ns#\" xmlns:dc=\"http://purl.org/dc/elements/1.1/\" xmlns:rdf=\"http://www.w3.org/1999/02/22-rdf-syntax-ns#\">\n   <cc:Work>\n    <dc:type rdf:resource=\"http://purl.org/dc/dcmitype/StillImage\"/>\n    <dc:date>2021-04-21T15:48:58.460542</dc:date>\n    <dc:format>image/svg+xml</dc:format>\n    <dc:creator>\n     <cc:Agent>\n      <dc:title>Matplotlib v3.4.1, https://matplotlib.org/</dc:title>\n     </cc:Agent>\n    </dc:creator>\n   </cc:Work>\n  </rdf:RDF>\n </metadata>\n <defs>\n  <style type=\"text/css\">*{stroke-linecap:butt;stroke-linejoin:round;}</style>\n </defs>\n <g id=\"figure_1\">\n  <g id=\"patch_1\">\n   <path d=\"M 0 248.518125 \nL 428.273437 248.518125 \nL 428.273437 0 \nL 0 0 \nz\n\" style=\"fill:none;\"/>\n  </g>\n  <g id=\"axes_1\">\n   <g id=\"patch_2\">\n    <path d=\"M 86.273438 224.64 \nL 421.073438 224.64 \nL 421.073438 7.2 \nL 86.273438 7.2 \nz\n\" style=\"fill:#ffffff;\"/>\n   </g>\n   <g id=\"patch_3\">\n    <path clip-path=\"url(#pc36c6dd466)\" d=\"M 86.273438 214.756364 \nL 405.13058 214.756364 \nL 405.13058 173.141053 \nL 86.273438 173.141053 \nz\n\" style=\"fill:#1f77b4;\"/>\n   </g>\n   <g id=\"patch_4\">\n    <path clip-path=\"url(#pc36c6dd466)\" d=\"M 86.273438 162.737225 \nL 398.763386 162.737225 \nL 398.763386 121.121914 \nL 86.273438 121.121914 \nz\n\" style=\"fill:#1f77b4;\"/>\n   </g>\n   <g id=\"patch_5\">\n    <path clip-path=\"url(#pc36c6dd466)\" d=\"M 86.273438 110.718086 \nL 374.189996 110.718086 \nL 374.189996 69.102775 \nL 86.273438 69.102775 \nz\n\" style=\"fill:#1f77b4;\"/>\n   </g>\n   <g id=\"patch_6\">\n    <path clip-path=\"url(#pc36c6dd466)\" d=\"M 86.273438 58.698947 \nL 359.366373 58.698947 \nL 359.366373 17.083636 \nL 86.273438 17.083636 \nz\n\" style=\"fill:#1f77b4;\"/>\n   </g>\n   <g id=\"matplotlib.axis_1\">\n    <g id=\"xtick_1\">\n     <g id=\"line2d_1\">\n      <defs>\n       <path d=\"M 0 0 \nL 0 3.5 \n\" id=\"m76b46414bc\" style=\"stroke:#000000;stroke-width:0.8;\"/>\n      </defs>\n      <g>\n       <use style=\"stroke:#000000;stroke-width:0.8;\" x=\"86.273438\" xlink:href=\"#m76b46414bc\" y=\"224.64\"/>\n      </g>\n     </g>\n     <g id=\"text_1\">\n      <!-- 0.0 -->\n      <g transform=\"translate(78.321875 239.238437)scale(0.1 -0.1)\">\n       <defs>\n        <path d=\"M 2034 4250 \nQ 1547 4250 1301 3770 \nQ 1056 3291 1056 2328 \nQ 1056 1369 1301 889 \nQ 1547 409 2034 409 \nQ 2525 409 2770 889 \nQ 3016 1369 3016 2328 \nQ 3016 3291 2770 3770 \nQ 2525 4250 2034 4250 \nz\nM 2034 4750 \nQ 2819 4750 3233 4129 \nQ 3647 3509 3647 2328 \nQ 3647 1150 3233 529 \nQ 2819 -91 2034 -91 \nQ 1250 -91 836 529 \nQ 422 1150 422 2328 \nQ 422 3509 836 4129 \nQ 1250 4750 2034 4750 \nz\n\" id=\"DejaVuSans-30\" transform=\"scale(0.015625)\"/>\n        <path d=\"M 684 794 \nL 1344 794 \nL 1344 0 \nL 684 0 \nL 684 794 \nz\n\" id=\"DejaVuSans-2e\" transform=\"scale(0.015625)\"/>\n       </defs>\n       <use xlink:href=\"#DejaVuSans-30\"/>\n       <use x=\"63.623047\" xlink:href=\"#DejaVuSans-2e\"/>\n       <use x=\"95.410156\" xlink:href=\"#DejaVuSans-30\"/>\n      </g>\n     </g>\n    </g>\n    <g id=\"xtick_2\">\n     <g id=\"line2d_2\">\n      <g>\n       <use style=\"stroke:#000000;stroke-width:0.8;\" x=\"154.322825\" xlink:href=\"#m76b46414bc\" y=\"224.64\"/>\n      </g>\n     </g>\n     <g id=\"text_2\">\n      <!-- 0.2 -->\n      <g transform=\"translate(146.371262 239.238437)scale(0.1 -0.1)\">\n       <defs>\n        <path d=\"M 1228 531 \nL 3431 531 \nL 3431 0 \nL 469 0 \nL 469 531 \nQ 828 903 1448 1529 \nQ 2069 2156 2228 2338 \nQ 2531 2678 2651 2914 \nQ 2772 3150 2772 3378 \nQ 2772 3750 2511 3984 \nQ 2250 4219 1831 4219 \nQ 1534 4219 1204 4116 \nQ 875 4013 500 3803 \nL 500 4441 \nQ 881 4594 1212 4672 \nQ 1544 4750 1819 4750 \nQ 2544 4750 2975 4387 \nQ 3406 4025 3406 3419 \nQ 3406 3131 3298 2873 \nQ 3191 2616 2906 2266 \nQ 2828 2175 2409 1742 \nQ 1991 1309 1228 531 \nz\n\" id=\"DejaVuSans-32\" transform=\"scale(0.015625)\"/>\n       </defs>\n       <use xlink:href=\"#DejaVuSans-30\"/>\n       <use x=\"63.623047\" xlink:href=\"#DejaVuSans-2e\"/>\n       <use x=\"95.410156\" xlink:href=\"#DejaVuSans-32\"/>\n      </g>\n     </g>\n    </g>\n    <g id=\"xtick_3\">\n     <g id=\"line2d_3\">\n      <g>\n       <use style=\"stroke:#000000;stroke-width:0.8;\" x=\"222.372212\" xlink:href=\"#m76b46414bc\" y=\"224.64\"/>\n      </g>\n     </g>\n     <g id=\"text_3\">\n      <!-- 0.4 -->\n      <g transform=\"translate(214.420649 239.238437)scale(0.1 -0.1)\">\n       <defs>\n        <path d=\"M 2419 4116 \nL 825 1625 \nL 2419 1625 \nL 2419 4116 \nz\nM 2253 4666 \nL 3047 4666 \nL 3047 1625 \nL 3713 1625 \nL 3713 1100 \nL 3047 1100 \nL 3047 0 \nL 2419 0 \nL 2419 1100 \nL 313 1100 \nL 313 1709 \nL 2253 4666 \nz\n\" id=\"DejaVuSans-34\" transform=\"scale(0.015625)\"/>\n       </defs>\n       <use xlink:href=\"#DejaVuSans-30\"/>\n       <use x=\"63.623047\" xlink:href=\"#DejaVuSans-2e\"/>\n       <use x=\"95.410156\" xlink:href=\"#DejaVuSans-34\"/>\n      </g>\n     </g>\n    </g>\n    <g id=\"xtick_4\">\n     <g id=\"line2d_4\">\n      <g>\n       <use style=\"stroke:#000000;stroke-width:0.8;\" x=\"290.421599\" xlink:href=\"#m76b46414bc\" y=\"224.64\"/>\n      </g>\n     </g>\n     <g id=\"text_4\">\n      <!-- 0.6 -->\n      <g transform=\"translate(282.470036 239.238437)scale(0.1 -0.1)\">\n       <defs>\n        <path d=\"M 2113 2584 \nQ 1688 2584 1439 2293 \nQ 1191 2003 1191 1497 \nQ 1191 994 1439 701 \nQ 1688 409 2113 409 \nQ 2538 409 2786 701 \nQ 3034 994 3034 1497 \nQ 3034 2003 2786 2293 \nQ 2538 2584 2113 2584 \nz\nM 3366 4563 \nL 3366 3988 \nQ 3128 4100 2886 4159 \nQ 2644 4219 2406 4219 \nQ 1781 4219 1451 3797 \nQ 1122 3375 1075 2522 \nQ 1259 2794 1537 2939 \nQ 1816 3084 2150 3084 \nQ 2853 3084 3261 2657 \nQ 3669 2231 3669 1497 \nQ 3669 778 3244 343 \nQ 2819 -91 2113 -91 \nQ 1303 -91 875 529 \nQ 447 1150 447 2328 \nQ 447 3434 972 4092 \nQ 1497 4750 2381 4750 \nQ 2619 4750 2861 4703 \nQ 3103 4656 3366 4563 \nz\n\" id=\"DejaVuSans-36\" transform=\"scale(0.015625)\"/>\n       </defs>\n       <use xlink:href=\"#DejaVuSans-30\"/>\n       <use x=\"63.623047\" xlink:href=\"#DejaVuSans-2e\"/>\n       <use x=\"95.410156\" xlink:href=\"#DejaVuSans-36\"/>\n      </g>\n     </g>\n    </g>\n    <g id=\"xtick_5\">\n     <g id=\"line2d_5\">\n      <g>\n       <use style=\"stroke:#000000;stroke-width:0.8;\" x=\"358.470986\" xlink:href=\"#m76b46414bc\" y=\"224.64\"/>\n      </g>\n     </g>\n     <g id=\"text_5\">\n      <!-- 0.8 -->\n      <g transform=\"translate(350.519423 239.238437)scale(0.1 -0.1)\">\n       <defs>\n        <path d=\"M 2034 2216 \nQ 1584 2216 1326 1975 \nQ 1069 1734 1069 1313 \nQ 1069 891 1326 650 \nQ 1584 409 2034 409 \nQ 2484 409 2743 651 \nQ 3003 894 3003 1313 \nQ 3003 1734 2745 1975 \nQ 2488 2216 2034 2216 \nz\nM 1403 2484 \nQ 997 2584 770 2862 \nQ 544 3141 544 3541 \nQ 544 4100 942 4425 \nQ 1341 4750 2034 4750 \nQ 2731 4750 3128 4425 \nQ 3525 4100 3525 3541 \nQ 3525 3141 3298 2862 \nQ 3072 2584 2669 2484 \nQ 3125 2378 3379 2068 \nQ 3634 1759 3634 1313 \nQ 3634 634 3220 271 \nQ 2806 -91 2034 -91 \nQ 1263 -91 848 271 \nQ 434 634 434 1313 \nQ 434 1759 690 2068 \nQ 947 2378 1403 2484 \nz\nM 1172 3481 \nQ 1172 3119 1398 2916 \nQ 1625 2713 2034 2713 \nQ 2441 2713 2670 2916 \nQ 2900 3119 2900 3481 \nQ 2900 3844 2670 4047 \nQ 2441 4250 2034 4250 \nQ 1625 4250 1398 4047 \nQ 1172 3844 1172 3481 \nz\n\" id=\"DejaVuSans-38\" transform=\"scale(0.015625)\"/>\n       </defs>\n       <use xlink:href=\"#DejaVuSans-30\"/>\n       <use x=\"63.623047\" xlink:href=\"#DejaVuSans-2e\"/>\n       <use x=\"95.410156\" xlink:href=\"#DejaVuSans-38\"/>\n      </g>\n     </g>\n    </g>\n   </g>\n   <g id=\"matplotlib.axis_2\">\n    <g id=\"ytick_1\">\n     <g id=\"line2d_6\">\n      <defs>\n       <path d=\"M 0 0 \nL -3.5 0 \n\" id=\"mc03fa29ee8\" style=\"stroke:#000000;stroke-width:0.8;\"/>\n      </defs>\n      <g>\n       <use style=\"stroke:#000000;stroke-width:0.8;\" x=\"86.273438\" xlink:href=\"#mc03fa29ee8\" y=\"193.948708\"/>\n      </g>\n     </g>\n     <g id=\"text_6\">\n      <!-- RandomForest -->\n      <g transform=\"translate(7.2 197.747927)scale(0.1 -0.1)\">\n       <defs>\n        <path d=\"M 2841 2188 \nQ 3044 2119 3236 1894 \nQ 3428 1669 3622 1275 \nL 4263 0 \nL 3584 0 \nL 2988 1197 \nQ 2756 1666 2539 1819 \nQ 2322 1972 1947 1972 \nL 1259 1972 \nL 1259 0 \nL 628 0 \nL 628 4666 \nL 2053 4666 \nQ 2853 4666 3247 4331 \nQ 3641 3997 3641 3322 \nQ 3641 2881 3436 2590 \nQ 3231 2300 2841 2188 \nz\nM 1259 4147 \nL 1259 2491 \nL 2053 2491 \nQ 2509 2491 2742 2702 \nQ 2975 2913 2975 3322 \nQ 2975 3731 2742 3939 \nQ 2509 4147 2053 4147 \nL 1259 4147 \nz\n\" id=\"DejaVuSans-52\" transform=\"scale(0.015625)\"/>\n        <path d=\"M 2194 1759 \nQ 1497 1759 1228 1600 \nQ 959 1441 959 1056 \nQ 959 750 1161 570 \nQ 1363 391 1709 391 \nQ 2188 391 2477 730 \nQ 2766 1069 2766 1631 \nL 2766 1759 \nL 2194 1759 \nz\nM 3341 1997 \nL 3341 0 \nL 2766 0 \nL 2766 531 \nQ 2569 213 2275 61 \nQ 1981 -91 1556 -91 \nQ 1019 -91 701 211 \nQ 384 513 384 1019 \nQ 384 1609 779 1909 \nQ 1175 2209 1959 2209 \nL 2766 2209 \nL 2766 2266 \nQ 2766 2663 2505 2880 \nQ 2244 3097 1772 3097 \nQ 1472 3097 1187 3025 \nQ 903 2953 641 2809 \nL 641 3341 \nQ 956 3463 1253 3523 \nQ 1550 3584 1831 3584 \nQ 2591 3584 2966 3190 \nQ 3341 2797 3341 1997 \nz\n\" id=\"DejaVuSans-61\" transform=\"scale(0.015625)\"/>\n        <path d=\"M 3513 2113 \nL 3513 0 \nL 2938 0 \nL 2938 2094 \nQ 2938 2591 2744 2837 \nQ 2550 3084 2163 3084 \nQ 1697 3084 1428 2787 \nQ 1159 2491 1159 1978 \nL 1159 0 \nL 581 0 \nL 581 3500 \nL 1159 3500 \nL 1159 2956 \nQ 1366 3272 1645 3428 \nQ 1925 3584 2291 3584 \nQ 2894 3584 3203 3211 \nQ 3513 2838 3513 2113 \nz\n\" id=\"DejaVuSans-6e\" transform=\"scale(0.015625)\"/>\n        <path d=\"M 2906 2969 \nL 2906 4863 \nL 3481 4863 \nL 3481 0 \nL 2906 0 \nL 2906 525 \nQ 2725 213 2448 61 \nQ 2172 -91 1784 -91 \nQ 1150 -91 751 415 \nQ 353 922 353 1747 \nQ 353 2572 751 3078 \nQ 1150 3584 1784 3584 \nQ 2172 3584 2448 3432 \nQ 2725 3281 2906 2969 \nz\nM 947 1747 \nQ 947 1113 1208 752 \nQ 1469 391 1925 391 \nQ 2381 391 2643 752 \nQ 2906 1113 2906 1747 \nQ 2906 2381 2643 2742 \nQ 2381 3103 1925 3103 \nQ 1469 3103 1208 2742 \nQ 947 2381 947 1747 \nz\n\" id=\"DejaVuSans-64\" transform=\"scale(0.015625)\"/>\n        <path d=\"M 1959 3097 \nQ 1497 3097 1228 2736 \nQ 959 2375 959 1747 \nQ 959 1119 1226 758 \nQ 1494 397 1959 397 \nQ 2419 397 2687 759 \nQ 2956 1122 2956 1747 \nQ 2956 2369 2687 2733 \nQ 2419 3097 1959 3097 \nz\nM 1959 3584 \nQ 2709 3584 3137 3096 \nQ 3566 2609 3566 1747 \nQ 3566 888 3137 398 \nQ 2709 -91 1959 -91 \nQ 1206 -91 779 398 \nQ 353 888 353 1747 \nQ 353 2609 779 3096 \nQ 1206 3584 1959 3584 \nz\n\" id=\"DejaVuSans-6f\" transform=\"scale(0.015625)\"/>\n        <path d=\"M 3328 2828 \nQ 3544 3216 3844 3400 \nQ 4144 3584 4550 3584 \nQ 5097 3584 5394 3201 \nQ 5691 2819 5691 2113 \nL 5691 0 \nL 5113 0 \nL 5113 2094 \nQ 5113 2597 4934 2840 \nQ 4756 3084 4391 3084 \nQ 3944 3084 3684 2787 \nQ 3425 2491 3425 1978 \nL 3425 0 \nL 2847 0 \nL 2847 2094 \nQ 2847 2600 2669 2842 \nQ 2491 3084 2119 3084 \nQ 1678 3084 1418 2786 \nQ 1159 2488 1159 1978 \nL 1159 0 \nL 581 0 \nL 581 3500 \nL 1159 3500 \nL 1159 2956 \nQ 1356 3278 1631 3431 \nQ 1906 3584 2284 3584 \nQ 2666 3584 2933 3390 \nQ 3200 3197 3328 2828 \nz\n\" id=\"DejaVuSans-6d\" transform=\"scale(0.015625)\"/>\n        <path d=\"M 628 4666 \nL 3309 4666 \nL 3309 4134 \nL 1259 4134 \nL 1259 2759 \nL 3109 2759 \nL 3109 2228 \nL 1259 2228 \nL 1259 0 \nL 628 0 \nL 628 4666 \nz\n\" id=\"DejaVuSans-46\" transform=\"scale(0.015625)\"/>\n        <path d=\"M 2631 2963 \nQ 2534 3019 2420 3045 \nQ 2306 3072 2169 3072 \nQ 1681 3072 1420 2755 \nQ 1159 2438 1159 1844 \nL 1159 0 \nL 581 0 \nL 581 3500 \nL 1159 3500 \nL 1159 2956 \nQ 1341 3275 1631 3429 \nQ 1922 3584 2338 3584 \nQ 2397 3584 2469 3576 \nQ 2541 3569 2628 3553 \nL 2631 2963 \nz\n\" id=\"DejaVuSans-72\" transform=\"scale(0.015625)\"/>\n        <path d=\"M 3597 1894 \nL 3597 1613 \nL 953 1613 \nQ 991 1019 1311 708 \nQ 1631 397 2203 397 \nQ 2534 397 2845 478 \nQ 3156 559 3463 722 \nL 3463 178 \nQ 3153 47 2828 -22 \nQ 2503 -91 2169 -91 \nQ 1331 -91 842 396 \nQ 353 884 353 1716 \nQ 353 2575 817 3079 \nQ 1281 3584 2069 3584 \nQ 2775 3584 3186 3129 \nQ 3597 2675 3597 1894 \nz\nM 3022 2063 \nQ 3016 2534 2758 2815 \nQ 2500 3097 2075 3097 \nQ 1594 3097 1305 2825 \nQ 1016 2553 972 2059 \nL 3022 2063 \nz\n\" id=\"DejaVuSans-65\" transform=\"scale(0.015625)\"/>\n        <path d=\"M 2834 3397 \nL 2834 2853 \nQ 2591 2978 2328 3040 \nQ 2066 3103 1784 3103 \nQ 1356 3103 1142 2972 \nQ 928 2841 928 2578 \nQ 928 2378 1081 2264 \nQ 1234 2150 1697 2047 \nL 1894 2003 \nQ 2506 1872 2764 1633 \nQ 3022 1394 3022 966 \nQ 3022 478 2636 193 \nQ 2250 -91 1575 -91 \nQ 1294 -91 989 -36 \nQ 684 19 347 128 \nL 347 722 \nQ 666 556 975 473 \nQ 1284 391 1588 391 \nQ 1994 391 2212 530 \nQ 2431 669 2431 922 \nQ 2431 1156 2273 1281 \nQ 2116 1406 1581 1522 \nL 1381 1569 \nQ 847 1681 609 1914 \nQ 372 2147 372 2553 \nQ 372 3047 722 3315 \nQ 1072 3584 1716 3584 \nQ 2034 3584 2315 3537 \nQ 2597 3491 2834 3397 \nz\n\" id=\"DejaVuSans-73\" transform=\"scale(0.015625)\"/>\n        <path d=\"M 1172 4494 \nL 1172 3500 \nL 2356 3500 \nL 2356 3053 \nL 1172 3053 \nL 1172 1153 \nQ 1172 725 1289 603 \nQ 1406 481 1766 481 \nL 2356 481 \nL 2356 0 \nL 1766 0 \nQ 1100 0 847 248 \nQ 594 497 594 1153 \nL 594 3053 \nL 172 3053 \nL 172 3500 \nL 594 3500 \nL 594 4494 \nL 1172 4494 \nz\n\" id=\"DejaVuSans-74\" transform=\"scale(0.015625)\"/>\n       </defs>\n       <use xlink:href=\"#DejaVuSans-52\"/>\n       <use x=\"67.232422\" xlink:href=\"#DejaVuSans-61\"/>\n       <use x=\"128.511719\" xlink:href=\"#DejaVuSans-6e\"/>\n       <use x=\"191.890625\" xlink:href=\"#DejaVuSans-64\"/>\n       <use x=\"255.367188\" xlink:href=\"#DejaVuSans-6f\"/>\n       <use x=\"316.548828\" xlink:href=\"#DejaVuSans-6d\"/>\n       <use x=\"413.960938\" xlink:href=\"#DejaVuSans-46\"/>\n       <use x=\"467.855469\" xlink:href=\"#DejaVuSans-6f\"/>\n       <use x=\"529.037109\" xlink:href=\"#DejaVuSans-72\"/>\n       <use x=\"567.900391\" xlink:href=\"#DejaVuSans-65\"/>\n       <use x=\"629.423828\" xlink:href=\"#DejaVuSans-73\"/>\n       <use x=\"681.523438\" xlink:href=\"#DejaVuSans-74\"/>\n      </g>\n     </g>\n    </g>\n    <g id=\"ytick_2\">\n     <g id=\"line2d_7\">\n      <g>\n       <use style=\"stroke:#000000;stroke-width:0.8;\" x=\"86.273438\" xlink:href=\"#mc03fa29ee8\" y=\"141.929569\"/>\n      </g>\n     </g>\n     <g id=\"text_7\">\n      <!-- DecisionTree -->\n      <g transform=\"translate(15.875 145.728788)scale(0.1 -0.1)\">\n       <defs>\n        <path d=\"M 1259 4147 \nL 1259 519 \nL 2022 519 \nQ 2988 519 3436 956 \nQ 3884 1394 3884 2338 \nQ 3884 3275 3436 3711 \nQ 2988 4147 2022 4147 \nL 1259 4147 \nz\nM 628 4666 \nL 1925 4666 \nQ 3281 4666 3915 4102 \nQ 4550 3538 4550 2338 \nQ 4550 1131 3912 565 \nQ 3275 0 1925 0 \nL 628 0 \nL 628 4666 \nz\n\" id=\"DejaVuSans-44\" transform=\"scale(0.015625)\"/>\n        <path d=\"M 3122 3366 \nL 3122 2828 \nQ 2878 2963 2633 3030 \nQ 2388 3097 2138 3097 \nQ 1578 3097 1268 2742 \nQ 959 2388 959 1747 \nQ 959 1106 1268 751 \nQ 1578 397 2138 397 \nQ 2388 397 2633 464 \nQ 2878 531 3122 666 \nL 3122 134 \nQ 2881 22 2623 -34 \nQ 2366 -91 2075 -91 \nQ 1284 -91 818 406 \nQ 353 903 353 1747 \nQ 353 2603 823 3093 \nQ 1294 3584 2113 3584 \nQ 2378 3584 2631 3529 \nQ 2884 3475 3122 3366 \nz\n\" id=\"DejaVuSans-63\" transform=\"scale(0.015625)\"/>\n        <path d=\"M 603 3500 \nL 1178 3500 \nL 1178 0 \nL 603 0 \nL 603 3500 \nz\nM 603 4863 \nL 1178 4863 \nL 1178 4134 \nL 603 4134 \nL 603 4863 \nz\n\" id=\"DejaVuSans-69\" transform=\"scale(0.015625)\"/>\n        <path d=\"M -19 4666 \nL 3928 4666 \nL 3928 4134 \nL 2272 4134 \nL 2272 0 \nL 1638 0 \nL 1638 4134 \nL -19 4134 \nL -19 4666 \nz\n\" id=\"DejaVuSans-54\" transform=\"scale(0.015625)\"/>\n       </defs>\n       <use xlink:href=\"#DejaVuSans-44\"/>\n       <use x=\"77.001953\" xlink:href=\"#DejaVuSans-65\"/>\n       <use x=\"138.525391\" xlink:href=\"#DejaVuSans-63\"/>\n       <use x=\"193.505859\" xlink:href=\"#DejaVuSans-69\"/>\n       <use x=\"221.289062\" xlink:href=\"#DejaVuSans-73\"/>\n       <use x=\"273.388672\" xlink:href=\"#DejaVuSans-69\"/>\n       <use x=\"301.171875\" xlink:href=\"#DejaVuSans-6f\"/>\n       <use x=\"362.353516\" xlink:href=\"#DejaVuSans-6e\"/>\n       <use x=\"425.732422\" xlink:href=\"#DejaVuSans-54\"/>\n       <use x=\"472.066406\" xlink:href=\"#DejaVuSans-72\"/>\n       <use x=\"510.929688\" xlink:href=\"#DejaVuSans-65\"/>\n       <use x=\"572.453125\" xlink:href=\"#DejaVuSans-65\"/>\n      </g>\n     </g>\n    </g>\n    <g id=\"ytick_3\">\n     <g id=\"line2d_8\">\n      <g>\n       <use style=\"stroke:#000000;stroke-width:0.8;\" x=\"86.273438\" xlink:href=\"#mc03fa29ee8\" y=\"89.910431\"/>\n      </g>\n     </g>\n     <g id=\"text_8\">\n      <!-- NaiveBayes -->\n      <g transform=\"translate(20.54375 93.709649)scale(0.1 -0.1)\">\n       <defs>\n        <path d=\"M 628 4666 \nL 1478 4666 \nL 3547 763 \nL 3547 4666 \nL 4159 4666 \nL 4159 0 \nL 3309 0 \nL 1241 3903 \nL 1241 0 \nL 628 0 \nL 628 4666 \nz\n\" id=\"DejaVuSans-4e\" transform=\"scale(0.015625)\"/>\n        <path d=\"M 191 3500 \nL 800 3500 \nL 1894 563 \nL 2988 3500 \nL 3597 3500 \nL 2284 0 \nL 1503 0 \nL 191 3500 \nz\n\" id=\"DejaVuSans-76\" transform=\"scale(0.015625)\"/>\n        <path d=\"M 1259 2228 \nL 1259 519 \nL 2272 519 \nQ 2781 519 3026 730 \nQ 3272 941 3272 1375 \nQ 3272 1813 3026 2020 \nQ 2781 2228 2272 2228 \nL 1259 2228 \nz\nM 1259 4147 \nL 1259 2741 \nL 2194 2741 \nQ 2656 2741 2882 2914 \nQ 3109 3088 3109 3444 \nQ 3109 3797 2882 3972 \nQ 2656 4147 2194 4147 \nL 1259 4147 \nz\nM 628 4666 \nL 2241 4666 \nQ 2963 4666 3353 4366 \nQ 3744 4066 3744 3513 \nQ 3744 3084 3544 2831 \nQ 3344 2578 2956 2516 \nQ 3422 2416 3680 2098 \nQ 3938 1781 3938 1306 \nQ 3938 681 3513 340 \nQ 3088 0 2303 0 \nL 628 0 \nL 628 4666 \nz\n\" id=\"DejaVuSans-42\" transform=\"scale(0.015625)\"/>\n        <path d=\"M 2059 -325 \nQ 1816 -950 1584 -1140 \nQ 1353 -1331 966 -1331 \nL 506 -1331 \nL 506 -850 \nL 844 -850 \nQ 1081 -850 1212 -737 \nQ 1344 -625 1503 -206 \nL 1606 56 \nL 191 3500 \nL 800 3500 \nL 1894 763 \nL 2988 3500 \nL 3597 3500 \nL 2059 -325 \nz\n\" id=\"DejaVuSans-79\" transform=\"scale(0.015625)\"/>\n       </defs>\n       <use xlink:href=\"#DejaVuSans-4e\"/>\n       <use x=\"74.804688\" xlink:href=\"#DejaVuSans-61\"/>\n       <use x=\"136.083984\" xlink:href=\"#DejaVuSans-69\"/>\n       <use x=\"163.867188\" xlink:href=\"#DejaVuSans-76\"/>\n       <use x=\"223.046875\" xlink:href=\"#DejaVuSans-65\"/>\n       <use x=\"284.570312\" xlink:href=\"#DejaVuSans-42\"/>\n       <use x=\"353.173828\" xlink:href=\"#DejaVuSans-61\"/>\n       <use x=\"414.453125\" xlink:href=\"#DejaVuSans-79\"/>\n       <use x=\"473.632812\" xlink:href=\"#DejaVuSans-65\"/>\n       <use x=\"535.15625\" xlink:href=\"#DejaVuSans-73\"/>\n      </g>\n     </g>\n    </g>\n    <g id=\"ytick_4\">\n     <g id=\"line2d_9\">\n      <g>\n       <use style=\"stroke:#000000;stroke-width:0.8;\" x=\"86.273438\" xlink:href=\"#mc03fa29ee8\" y=\"37.891292\"/>\n      </g>\n     </g>\n     <g id=\"text_9\">\n      <!-- Kneighborhs -->\n      <g transform=\"translate(16.810937 41.690511)scale(0.1 -0.1)\">\n       <defs>\n        <path d=\"M 628 4666 \nL 1259 4666 \nL 1259 2694 \nL 3353 4666 \nL 4166 4666 \nL 1850 2491 \nL 4331 0 \nL 3500 0 \nL 1259 2247 \nL 1259 0 \nL 628 0 \nL 628 4666 \nz\n\" id=\"DejaVuSans-4b\" transform=\"scale(0.015625)\"/>\n        <path d=\"M 2906 1791 \nQ 2906 2416 2648 2759 \nQ 2391 3103 1925 3103 \nQ 1463 3103 1205 2759 \nQ 947 2416 947 1791 \nQ 947 1169 1205 825 \nQ 1463 481 1925 481 \nQ 2391 481 2648 825 \nQ 2906 1169 2906 1791 \nz\nM 3481 434 \nQ 3481 -459 3084 -895 \nQ 2688 -1331 1869 -1331 \nQ 1566 -1331 1297 -1286 \nQ 1028 -1241 775 -1147 \nL 775 -588 \nQ 1028 -725 1275 -790 \nQ 1522 -856 1778 -856 \nQ 2344 -856 2625 -561 \nQ 2906 -266 2906 331 \nL 2906 616 \nQ 2728 306 2450 153 \nQ 2172 0 1784 0 \nQ 1141 0 747 490 \nQ 353 981 353 1791 \nQ 353 2603 747 3093 \nQ 1141 3584 1784 3584 \nQ 2172 3584 2450 3431 \nQ 2728 3278 2906 2969 \nL 2906 3500 \nL 3481 3500 \nL 3481 434 \nz\n\" id=\"DejaVuSans-67\" transform=\"scale(0.015625)\"/>\n        <path d=\"M 3513 2113 \nL 3513 0 \nL 2938 0 \nL 2938 2094 \nQ 2938 2591 2744 2837 \nQ 2550 3084 2163 3084 \nQ 1697 3084 1428 2787 \nQ 1159 2491 1159 1978 \nL 1159 0 \nL 581 0 \nL 581 4863 \nL 1159 4863 \nL 1159 2956 \nQ 1366 3272 1645 3428 \nQ 1925 3584 2291 3584 \nQ 2894 3584 3203 3211 \nQ 3513 2838 3513 2113 \nz\n\" id=\"DejaVuSans-68\" transform=\"scale(0.015625)\"/>\n        <path d=\"M 3116 1747 \nQ 3116 2381 2855 2742 \nQ 2594 3103 2138 3103 \nQ 1681 3103 1420 2742 \nQ 1159 2381 1159 1747 \nQ 1159 1113 1420 752 \nQ 1681 391 2138 391 \nQ 2594 391 2855 752 \nQ 3116 1113 3116 1747 \nz\nM 1159 2969 \nQ 1341 3281 1617 3432 \nQ 1894 3584 2278 3584 \nQ 2916 3584 3314 3078 \nQ 3713 2572 3713 1747 \nQ 3713 922 3314 415 \nQ 2916 -91 2278 -91 \nQ 1894 -91 1617 61 \nQ 1341 213 1159 525 \nL 1159 0 \nL 581 0 \nL 581 4863 \nL 1159 4863 \nL 1159 2969 \nz\n\" id=\"DejaVuSans-62\" transform=\"scale(0.015625)\"/>\n       </defs>\n       <use xlink:href=\"#DejaVuSans-4b\"/>\n       <use x=\"65.576172\" xlink:href=\"#DejaVuSans-6e\"/>\n       <use x=\"128.955078\" xlink:href=\"#DejaVuSans-65\"/>\n       <use x=\"190.478516\" xlink:href=\"#DejaVuSans-69\"/>\n       <use x=\"218.261719\" xlink:href=\"#DejaVuSans-67\"/>\n       <use x=\"281.738281\" xlink:href=\"#DejaVuSans-68\"/>\n       <use x=\"345.117188\" xlink:href=\"#DejaVuSans-62\"/>\n       <use x=\"408.59375\" xlink:href=\"#DejaVuSans-6f\"/>\n       <use x=\"469.775391\" xlink:href=\"#DejaVuSans-72\"/>\n       <use x=\"509.138672\" xlink:href=\"#DejaVuSans-68\"/>\n       <use x=\"572.517578\" xlink:href=\"#DejaVuSans-73\"/>\n      </g>\n     </g>\n    </g>\n   </g>\n   <g id=\"patch_7\">\n    <path d=\"M 86.273438 224.64 \nL 86.273438 7.2 \n\" style=\"fill:none;stroke:#000000;stroke-linecap:square;stroke-linejoin:miter;stroke-width:0.8;\"/>\n   </g>\n   <g id=\"patch_8\">\n    <path d=\"M 421.073438 224.64 \nL 421.073438 7.2 \n\" style=\"fill:none;stroke:#000000;stroke-linecap:square;stroke-linejoin:miter;stroke-width:0.8;\"/>\n   </g>\n   <g id=\"patch_9\">\n    <path d=\"M 86.273438 224.64 \nL 421.073438 224.64 \n\" style=\"fill:none;stroke:#000000;stroke-linecap:square;stroke-linejoin:miter;stroke-width:0.8;\"/>\n   </g>\n   <g id=\"patch_10\">\n    <path d=\"M 86.273438 7.2 \nL 421.073438 7.2 \n\" style=\"fill:none;stroke:#000000;stroke-linecap:square;stroke-linejoin:miter;stroke-width:0.8;\"/>\n   </g>\n  </g>\n </g>\n <defs>\n  <clipPath id=\"pc36c6dd466\">\n   <rect height=\"217.44\" width=\"334.8\" x=\"86.273438\" y=\"7.2\"/>\n  </clipPath>\n </defs>\n</svg>\n",
      "image/png": "[encoded data removed]"
     },
     "metadata": {
      "needs_background": "light"
     }
    }
   ],
   "source": [
    "plt.barh(['RandomForest', 'DecisionTree', 'NaiveBayes', 'Kneighborhs'], precisoes_media, )\n",
    "plt.show()"
   ]
  }
 ]
}