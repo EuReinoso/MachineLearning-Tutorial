{
  "nbformat": 4,
  "nbformat_minor": 0,
  "metadata": {
    "colab": {
      "name": "Titanic_ML.ipynb",
      "provenance": []
    },
    "kernelspec": {
      "name": "python3",
      "display_name": "Python 3"
    },
    "language_info": {
      "name": "python"
    }
  },
  "cells": [
    {
      "cell_type": "markdown",
      "metadata": {
        "id": "-ZyCPmp9M0fH"
      },
      "source": [
        "# Introdução\n",
        "Olá, vamos iniciar o tutorial de Machine Learning! Nesse exemplo usaremos o `dataset` titanic, aonde queremos saber qual passageiro sobreviveu ao acidente está separado em dois arquivos:\n",
        "- `train.csv` que utilizaremos para fazer o treinamento do nosso algorítmo de classificação.\n",
        "- `test.csv` que são os dados usados para fazer a previsão e fazer a submissão no kaggle.\n",
        "\n",
        "Lembrando que nesse repositório não focaremos na competição do Kaggle em si, e sim no tratamento dos dados até a etapa da aplicação do Algorítmo de Machine Learning.\n",
        "\n",
        "Boa sorte e bons estudos!\n",
        "\n"
      ]
    },
    {
      "cell_type": "markdown",
      "metadata": {
        "id": "Kg_-YRocPNBm"
      },
      "source": [
        "# Tratamento dos Dados\n",
        "\n",
        "Uma das tarefas mais importantes de um Cientísta de Dados é fazer o tratamento e limpeza dos dados antes de fazer qualquer aplicação ou análise. Dados com erros ou imprecisões podem influenciar negativamente ou arruinar qualquer que seja o objetivo. \n"
      ]
    },
    {
      "cell_type": "markdown",
      "metadata": {
        "id": "cV5NIZllQnMM"
      },
      "source": [
        " Importando biblioteca pandas"
      ]
    },
    {
      "cell_type": "code",
      "metadata": {
        "id": "a4mqWKMHQa_V"
      },
      "source": [
        "import pandas as pd"
      ],
      "execution_count": 183,
      "outputs": []
    },
    {
      "cell_type": "markdown",
      "metadata": {
        "id": "Ii1GpwxHQ5f8"
      },
      "source": [
        "Lendo arquivos csv para fazer um tratamento conjunto"
      ]
    },
    {
      "cell_type": "code",
      "metadata": {
        "id": "K4eAkOX0Q_bf"
      },
      "source": [
        "treino = pd.read_csv('train.csv')\n",
        "teste = pd.read_csv('test.csv')\n",
        "\n",
        "dataset = [treino, teste]"
      ],
      "execution_count": 184,
      "outputs": []
    },
    {
      "cell_type": "markdown",
      "metadata": {
        "id": "TKtbKQWDRvuE"
      },
      "source": [
        "Visualizando os dados"
      ]
    },
    {
      "cell_type": "code",
      "metadata": {
        "colab": {
          "base_uri": "https://localhost:8080/",
          "height": 289
        },
        "id": "UNjCqi_eRtEd",
        "outputId": "9ef6cec4-b497-49d4-9fd8-45e2dfe2909a"
      },
      "source": [
        "treino.head()"
      ],
      "execution_count": 185,
      "outputs": [
        {
          "output_type": "execute_result",
          "data": {
            "text/html": [
              "<div>\n",
              "<style scoped>\n",
              "    .dataframe tbody tr th:only-of-type {\n",
              "        vertical-align: middle;\n",
              "    }\n",
              "\n",
              "    .dataframe tbody tr th {\n",
              "        vertical-align: top;\n",
              "    }\n",
              "\n",
              "    .dataframe thead th {\n",
              "        text-align: right;\n",
              "    }\n",
              "</style>\n",
              "<table border=\"1\" class=\"dataframe\">\n",
              "  <thead>\n",
              "    <tr style=\"text-align: right;\">\n",
              "      <th></th>\n",
              "      <th>PassengerId</th>\n",
              "      <th>Survived</th>\n",
              "      <th>Pclass</th>\n",
              "      <th>Name</th>\n",
              "      <th>Sex</th>\n",
              "      <th>Age</th>\n",
              "      <th>SibSp</th>\n",
              "      <th>Parch</th>\n",
              "      <th>Ticket</th>\n",
              "      <th>Fare</th>\n",
              "      <th>Cabin</th>\n",
              "      <th>Embarked</th>\n",
              "    </tr>\n",
              "  </thead>\n",
              "  <tbody>\n",
              "    <tr>\n",
              "      <th>0</th>\n",
              "      <td>1</td>\n",
              "      <td>0</td>\n",
              "      <td>3</td>\n",
              "      <td>Braund, Mr. Owen Harris</td>\n",
              "      <td>male</td>\n",
              "      <td>22.0</td>\n",
              "      <td>1</td>\n",
              "      <td>0</td>\n",
              "      <td>A/5 21171</td>\n",
              "      <td>7.2500</td>\n",
              "      <td>NaN</td>\n",
              "      <td>S</td>\n",
              "    </tr>\n",
              "    <tr>\n",
              "      <th>1</th>\n",
              "      <td>2</td>\n",
              "      <td>1</td>\n",
              "      <td>1</td>\n",
              "      <td>Cumings, Mrs. John Bradley (Florence Briggs Th...</td>\n",
              "      <td>female</td>\n",
              "      <td>38.0</td>\n",
              "      <td>1</td>\n",
              "      <td>0</td>\n",
              "      <td>PC 17599</td>\n",
              "      <td>71.2833</td>\n",
              "      <td>C85</td>\n",
              "      <td>C</td>\n",
              "    </tr>\n",
              "    <tr>\n",
              "      <th>2</th>\n",
              "      <td>3</td>\n",
              "      <td>1</td>\n",
              "      <td>3</td>\n",
              "      <td>Heikkinen, Miss. Laina</td>\n",
              "      <td>female</td>\n",
              "      <td>26.0</td>\n",
              "      <td>0</td>\n",
              "      <td>0</td>\n",
              "      <td>STON/O2. 3101282</td>\n",
              "      <td>7.9250</td>\n",
              "      <td>NaN</td>\n",
              "      <td>S</td>\n",
              "    </tr>\n",
              "    <tr>\n",
              "      <th>3</th>\n",
              "      <td>4</td>\n",
              "      <td>1</td>\n",
              "      <td>1</td>\n",
              "      <td>Futrelle, Mrs. Jacques Heath (Lily May Peel)</td>\n",
              "      <td>female</td>\n",
              "      <td>35.0</td>\n",
              "      <td>1</td>\n",
              "      <td>0</td>\n",
              "      <td>113803</td>\n",
              "      <td>53.1000</td>\n",
              "      <td>C123</td>\n",
              "      <td>S</td>\n",
              "    </tr>\n",
              "    <tr>\n",
              "      <th>4</th>\n",
              "      <td>5</td>\n",
              "      <td>0</td>\n",
              "      <td>3</td>\n",
              "      <td>Allen, Mr. William Henry</td>\n",
              "      <td>male</td>\n",
              "      <td>35.0</td>\n",
              "      <td>0</td>\n",
              "      <td>0</td>\n",
              "      <td>373450</td>\n",
              "      <td>8.0500</td>\n",
              "      <td>NaN</td>\n",
              "      <td>S</td>\n",
              "    </tr>\n",
              "  </tbody>\n",
              "</table>\n",
              "</div>"
            ],
            "text/plain": [
              "   PassengerId  Survived  Pclass  ...     Fare Cabin  Embarked\n",
              "0            1         0       3  ...   7.2500   NaN         S\n",
              "1            2         1       1  ...  71.2833   C85         C\n",
              "2            3         1       3  ...   7.9250   NaN         S\n",
              "3            4         1       1  ...  53.1000  C123         S\n",
              "4            5         0       3  ...   8.0500   NaN         S\n",
              "\n",
              "[5 rows x 12 columns]"
            ]
          },
          "metadata": {
            "tags": []
          },
          "execution_count": 185
        }
      ]
    },
    {
      "cell_type": "code",
      "metadata": {
        "colab": {
          "base_uri": "https://localhost:8080/"
        },
        "id": "P8_5INptRf7Q",
        "outputId": "68dcd129-e938-42ce-d974-7867b512c23f"
      },
      "source": [
        "treino.info()"
      ],
      "execution_count": 186,
      "outputs": [
        {
          "output_type": "stream",
          "text": [
            "<class 'pandas.core.frame.DataFrame'>\n",
            "RangeIndex: 891 entries, 0 to 890\n",
            "Data columns (total 12 columns):\n",
            " #   Column       Non-Null Count  Dtype  \n",
            "---  ------       --------------  -----  \n",
            " 0   PassengerId  891 non-null    int64  \n",
            " 1   Survived     891 non-null    int64  \n",
            " 2   Pclass       891 non-null    int64  \n",
            " 3   Name         891 non-null    object \n",
            " 4   Sex          891 non-null    object \n",
            " 5   Age          714 non-null    float64\n",
            " 6   SibSp        891 non-null    int64  \n",
            " 7   Parch        891 non-null    int64  \n",
            " 8   Ticket       891 non-null    object \n",
            " 9   Fare         891 non-null    float64\n",
            " 10  Cabin        204 non-null    object \n",
            " 11  Embarked     889 non-null    object \n",
            "dtypes: float64(2), int64(5), object(5)\n",
            "memory usage: 83.7+ KB\n"
          ],
          "name": "stdout"
        }
      ]
    },
    {
      "cell_type": "code",
      "metadata": {
        "colab": {
          "base_uri": "https://localhost:8080/"
        },
        "id": "nmfc4OBTTPX7",
        "outputId": "a8eb2d98-4523-4557-ef51-2da54e3c6e6d"
      },
      "source": [
        "teste.info()"
      ],
      "execution_count": 187,
      "outputs": [
        {
          "output_type": "stream",
          "text": [
            "<class 'pandas.core.frame.DataFrame'>\n",
            "RangeIndex: 418 entries, 0 to 417\n",
            "Data columns (total 11 columns):\n",
            " #   Column       Non-Null Count  Dtype  \n",
            "---  ------       --------------  -----  \n",
            " 0   PassengerId  418 non-null    int64  \n",
            " 1   Pclass       418 non-null    int64  \n",
            " 2   Name         418 non-null    object \n",
            " 3   Sex          418 non-null    object \n",
            " 4   Age          332 non-null    float64\n",
            " 5   SibSp        418 non-null    int64  \n",
            " 6   Parch        418 non-null    int64  \n",
            " 7   Ticket       418 non-null    object \n",
            " 8   Fare         417 non-null    float64\n",
            " 9   Cabin        91 non-null     object \n",
            " 10  Embarked     418 non-null    object \n",
            "dtypes: float64(2), int64(4), object(5)\n",
            "memory usage: 36.0+ KB\n"
          ],
          "name": "stdout"
        }
      ]
    },
    {
      "cell_type": "markdown",
      "metadata": {
        "id": "35M9dhpYSe94"
      },
      "source": [
        "## Iniciando tratamento individual\n",
        "\n",
        "Agora que já visualizamos os dados, vamos começar a verificar coluna por coluna e averiguar se precisam de alguma correção."
      ]
    },
    {
      "cell_type": "markdown",
      "metadata": {
        "id": "p1h-1AlSTCmj"
      },
      "source": [
        "### Pclass\n",
        "Não precisa de mudanças."
      ]
    },
    {
      "cell_type": "code",
      "metadata": {
        "colab": {
          "base_uri": "https://localhost:8080/"
        },
        "id": "ydFVj8QxSN6p",
        "outputId": "e267e7f5-a4e9-4653-e46f-9de55d2ae4b1"
      },
      "source": [
        "treino.Pclass.value_counts()"
      ],
      "execution_count": 188,
      "outputs": [
        {
          "output_type": "execute_result",
          "data": {
            "text/plain": [
              "3    491\n",
              "1    216\n",
              "2    184\n",
              "Name: Pclass, dtype: int64"
            ]
          },
          "metadata": {
            "tags": []
          },
          "execution_count": 188
        }
      ]
    },
    {
      "cell_type": "markdown",
      "metadata": {
        "id": "kH6bbJ00Ttbw"
      },
      "source": [
        "### SibSp e Parch\n",
        "As colunas SibSp e Parch se referem aos membros da família, com esses dados dá para criar 2 novas colunas que vão dar mais informações importantes.\n",
        "\n",
        "- `TamanhoFamilia` somando SibSp e Parch.\n",
        "- `Sosinho` se o tamanho da família for 1 então a pessoa está sozinha.\n",
        "\n",
        "É importante criar esses dados, pois eles não estão explícitos no código, mas pode gerar resultados melhores se adicionarmos."
      ]
    },
    {
      "cell_type": "code",
      "metadata": {
        "colab": {
          "base_uri": "https://localhost:8080/"
        },
        "id": "YEVw4NOaTsO3",
        "outputId": "8fad67c8-2be0-448e-deac-2b741a1705a8"
      },
      "source": [
        "treino['SibSp'].value_counts()"
      ],
      "execution_count": 189,
      "outputs": [
        {
          "output_type": "execute_result",
          "data": {
            "text/plain": [
              "0    608\n",
              "1    209\n",
              "2     28\n",
              "4     18\n",
              "3     16\n",
              "8      7\n",
              "5      5\n",
              "Name: SibSp, dtype: int64"
            ]
          },
          "metadata": {
            "tags": []
          },
          "execution_count": 189
        }
      ]
    },
    {
      "cell_type": "code",
      "metadata": {
        "colab": {
          "base_uri": "https://localhost:8080/"
        },
        "id": "0K6-FADRUIic",
        "outputId": "0c09bd55-1443-4665-d60a-68707e54ddee"
      },
      "source": [
        "treino['Parch'].value_counts()"
      ],
      "execution_count": 190,
      "outputs": [
        {
          "output_type": "execute_result",
          "data": {
            "text/plain": [
              "0    678\n",
              "1    118\n",
              "2     80\n",
              "5      5\n",
              "3      5\n",
              "4      4\n",
              "6      1\n",
              "Name: Parch, dtype: int64"
            ]
          },
          "metadata": {
            "tags": []
          },
          "execution_count": 190
        }
      ]
    },
    {
      "cell_type": "markdown",
      "metadata": {
        "id": "HduUIDazVrK6"
      },
      "source": [
        "Criando coluna `TamanhoFamilia`"
      ]
    },
    {
      "cell_type": "code",
      "metadata": {
        "colab": {
          "base_uri": "https://localhost:8080/"
        },
        "id": "q8ipyKE6VoKn",
        "outputId": "174a8321-a76b-4710-c949-2efb7088acfd"
      },
      "source": [
        "for data in dataset:\n",
        "  data['TamanhoFamilia'] = data['SibSp'] + data['Parch'] + 1\n",
        "\n",
        "treino['TamanhoFamilia'].value_counts()"
      ],
      "execution_count": 191,
      "outputs": [
        {
          "output_type": "execute_result",
          "data": {
            "text/plain": [
              "1     537\n",
              "2     161\n",
              "3     102\n",
              "4      29\n",
              "6      22\n",
              "5      15\n",
              "7      12\n",
              "11      7\n",
              "8       6\n",
              "Name: TamanhoFamilia, dtype: int64"
            ]
          },
          "metadata": {
            "tags": []
          },
          "execution_count": 191
        }
      ]
    },
    {
      "cell_type": "markdown",
      "metadata": {
        "id": "HLdGp1XtWTRZ"
      },
      "source": [
        "Criando coluna `Sozinho`"
      ]
    },
    {
      "cell_type": "code",
      "metadata": {
        "colab": {
          "base_uri": "https://localhost:8080/"
        },
        "id": "Ia7k3grwWAwo",
        "outputId": "941e95e0-29d8-4578-90ce-dddedee0361d"
      },
      "source": [
        "for data in dataset:\n",
        "  data['Sozinho'] = 0\n",
        "  data.loc[data['TamanhoFamilia'] == 1, 'Sozinho'] = 1\n",
        "\n",
        "treino['Sozinho'].value_counts()"
      ],
      "execution_count": 192,
      "outputs": [
        {
          "output_type": "execute_result",
          "data": {
            "text/plain": [
              "1    537\n",
              "0    354\n",
              "Name: Sozinho, dtype: int64"
            ]
          },
          "metadata": {
            "tags": []
          },
          "execution_count": 192
        }
      ]
    },
    {
      "cell_type": "markdown",
      "metadata": {
        "id": "CSPm94_FXM6Y"
      },
      "source": [
        "### Embarked\n",
        "Em Embarked vamos substituir os valores NaN (Não informados) pela moda `S`"
      ]
    },
    {
      "cell_type": "code",
      "metadata": {
        "colab": {
          "base_uri": "https://localhost:8080/"
        },
        "id": "aAjwLK_WXkol",
        "outputId": "8203a94e-b66f-47a4-bf4a-04bd599ebf0b"
      },
      "source": [
        "treino['Embarked'].describe()"
      ],
      "execution_count": 193,
      "outputs": [
        {
          "output_type": "execute_result",
          "data": {
            "text/plain": [
              "count     889\n",
              "unique      3\n",
              "top         S\n",
              "freq      644\n",
              "Name: Embarked, dtype: object"
            ]
          },
          "metadata": {
            "tags": []
          },
          "execution_count": 193
        }
      ]
    },
    {
      "cell_type": "code",
      "metadata": {
        "id": "NFejQ3FDXbZh"
      },
      "source": [
        "for data in dataset:\n",
        "  data['Embarked'].fillna('S', inplace= True)"
      ],
      "execution_count": 194,
      "outputs": []
    },
    {
      "cell_type": "markdown",
      "metadata": {
        "id": "RnWLahfeX4Cq"
      },
      "source": [
        "### Fare\n",
        "Em Fare vamos substituir os valores NaN pela mediana."
      ]
    },
    {
      "cell_type": "code",
      "metadata": {
        "colab": {
          "base_uri": "https://localhost:8080/"
        },
        "id": "nBsyu_tyYh1q",
        "outputId": "79b46613-15a0-468b-9797-76a50fe76b7e"
      },
      "source": [
        "treino['Fare'].describe()"
      ],
      "execution_count": 195,
      "outputs": [
        {
          "output_type": "execute_result",
          "data": {
            "text/plain": [
              "count    891.000000\n",
              "mean      32.204208\n",
              "std       49.693429\n",
              "min        0.000000\n",
              "25%        7.910400\n",
              "50%       14.454200\n",
              "75%       31.000000\n",
              "max      512.329200\n",
              "Name: Fare, dtype: float64"
            ]
          },
          "metadata": {
            "tags": []
          },
          "execution_count": 195
        }
      ]
    },
    {
      "cell_type": "code",
      "metadata": {
        "id": "-WRbGHgiX2F_"
      },
      "source": [
        "for data in dataset:\n",
        "  data['Fare'].fillna(data['Fare'].median(), inplace= True)"
      ],
      "execution_count": 196,
      "outputs": []
    },
    {
      "cell_type": "markdown",
      "metadata": {
        "id": "heTJogfZYxL3"
      },
      "source": [
        "### Age\n",
        "Em Age (Idade) vamos substituir os valores NaN por valores aleatórios em um range de `idade_média - desvio_padrao` até `idade_media + desvio_padrao`.\n",
        "\n",
        "Faremos isso para que os valores vazios não influenciem tanto nos resultados dos nossos modelos."
      ]
    },
    {
      "cell_type": "code",
      "metadata": {
        "id": "4Mubk0pPaIy-"
      },
      "source": [
        "import numpy as np\n",
        "\n",
        "for data in dataset:\n",
        "  age_media = data['Age'].mean()\n",
        "  age_desv_padrao = data['Age'].std()\n",
        "  age_nulos = data['Age'].isnull().sum()\n",
        "\n",
        "  age_lista_aleatoria = np.random.randint(age_media - age_desv_padrao, age_media + age_desv_padrao, size= age_nulos)\n",
        "\n",
        "  data['Age'][np.isnan(data['Age'])] = age_lista_aleatoria"
      ],
      "execution_count": null,
      "outputs": []
    },
    {
      "cell_type": "markdown",
      "metadata": {
        "id": "bjcOywj-b2Mk"
      },
      "source": [
        "### Name\n",
        "Em Nome daria para criar uma coluna extra com os tratamentos usados para as pessoas. Porém nesse tutorial vou eliminar a coluna Name pois requer a biblioteca `re` e não está nos pré requisitos do tutorial."
      ]
    },
    {
      "cell_type": "code",
      "metadata": {
        "colab": {
          "base_uri": "https://localhost:8080/"
        },
        "id": "MgcjDn9yb1ft",
        "outputId": "281c6c1b-2491-417e-9ba6-ce5d78fd00e2"
      },
      "source": [
        "treino['Name'].head()"
      ],
      "execution_count": 198,
      "outputs": [
        {
          "output_type": "execute_result",
          "data": {
            "text/plain": [
              "0                              Braund, Mr. Owen Harris\n",
              "1    Cumings, Mrs. John Bradley (Florence Briggs Th...\n",
              "2                               Heikkinen, Miss. Laina\n",
              "3         Futrelle, Mrs. Jacques Heath (Lily May Peel)\n",
              "4                             Allen, Mr. William Henry\n",
              "Name: Name, dtype: object"
            ]
          },
          "metadata": {
            "tags": []
          },
          "execution_count": 198
        }
      ]
    },
    {
      "cell_type": "markdown",
      "metadata": {
        "id": "fTTZ4VY9dVdO"
      },
      "source": [
        "## Transformando dados categóricos em Numéricos\n",
        "Para utilizar os algorítmos de machine Learning precisamos passar os dados categóricos para numéricos, pois os algoritmos de classificação lidam com números."
      ]
    },
    {
      "cell_type": "code",
      "metadata": {
        "id": "Kz0yOK4mdv8k"
      },
      "source": [
        "for data in dataset:\n",
        "  #Sex\n",
        "  data['Sex'] = data['Sex'].map({'female' : 0, 'male' : 1}).astype(int)\n",
        "\n",
        "  #Embarked\n",
        "  data['Embarked'] = data['Embarked'].map({'S' : 0, 'C' : 1, 'Q' : 2}).astype(int)\n",
        "\n",
        "  # Os dados de Fare já são numéricos, mas vamos separalos em grupos de 4 partes\n",
        "  data.loc[data['Fare'] <= 7.91, 'Fare']                              = 0\n",
        "  data.loc[(data['Fare'] > 7.91) & (data['Fare'] <= 14.454), 'Fare']  = 1\n",
        "  data.loc[(data['Fare'] > 14.454) & (data['Fare'] <= 31), 'Fare']    = 2\n",
        "  data.loc[data['Fare'] > 31, 'Fare']                                 = 3\n",
        "\n",
        "  # Os dados de idade já são numéricos, mas vamos dividir em idades de intervalos de 16 anos\n",
        "  data.loc[ data['Age'] <= 16, 'Age'] \t\t\t\t\t            = 0\n",
        "  data.loc[(data['Age'] > 16) & (data['Age'] <= 32), 'Age'] = 1\n",
        "  data.loc[(data['Age'] > 32) & (data['Age'] <= 48), 'Age'] = 2\n",
        "  data.loc[(data['Age'] > 48) & (data['Age'] <= 64), 'Age'] = 3\n",
        "  data.loc[ data['Age'] > 64, 'Age']    "
      ],
      "execution_count": 199,
      "outputs": []
    },
    {
      "cell_type": "markdown",
      "metadata": {
        "id": "SOcSCoU00FRi"
      },
      "source": [
        "Vamos dropar (eliminar) colunas que não vão agregar à análise, e também colunas que não apresentam dados suficientes, tipo Ticket e Cabin, que tem valores NaN demais."
      ]
    },
    {
      "cell_type": "code",
      "metadata": {
        "id": "qqJPaVMEz-XY"
      },
      "source": [
        "elementos_dropados = ['PassengerId', 'Name', 'Ticket', 'Cabin', 'SibSp', 'Parch']\n",
        "\n",
        "for data in dataset:\n",
        "  data.drop(columns= elementos_dropados, inplace= True)"
      ],
      "execution_count": 200,
      "outputs": []
    },
    {
      "cell_type": "markdown",
      "metadata": {
        "id": "gBfoPFet1H5l"
      },
      "source": [
        "Agora pra finalizar, vamos transformar os dados de treino e teste em listas"
      ]
    },
    {
      "cell_type": "code",
      "metadata": {
        "id": "O-vAvu5R1FLL"
      },
      "source": [
        "treino = treino.values\n",
        "teste = teste.values"
      ],
      "execution_count": 201,
      "outputs": []
    },
    {
      "cell_type": "markdown",
      "metadata": {
        "id": "vVf8At4t04xZ"
      },
      "source": [
        "# Classificando\n",
        "\n",
        "Agora que os dados estão tratados e limpos, estamos prontos para fazer os treinamentos e classificações.\n",
        "\n",
        "vamos começar importando os modelos de classificação da biblioteca `sklearn`. Existem uma porção de modelos, porém neste módulo usaremos só os principais, e faremos uma média das precisões para saber qual se sai melhor com esse dataset."
      ]
    },
    {
      "cell_type": "code",
      "metadata": {
        "id": "UVqJwZQ600ve"
      },
      "source": [
        "from sklearn.ensemble import RandomForestClassifier\n",
        "from sklearn.tree import DecisionTreeClassifier\n",
        "from sklearn.naive_bayes import GaussianNB\n",
        "from sklearn.neighbors import KNeighborsClassifier\n",
        "\n",
        "classificadores = [\n",
        "          RandomForestClassifier(100),\n",
        "          GaussianNB(),\n",
        "          DecisionTreeClassifier(),\n",
        "          KNeighborsClassifier(3)\n",
        "]"
      ],
      "execution_count": 202,
      "outputs": []
    },
    {
      "cell_type": "markdown",
      "metadata": {
        "id": "ZxqGObIq2xdL"
      },
      "source": [
        "Você pode se perguntar, por que importar vários classificadores de treinamento e não só um? \n",
        "\n",
        "Porque cada classificador se da melhor com determinado tipo de dataset. Então é melhor testar o máximo possível para ver qual se sai melhor, então no na previsão de teste real só utilizar o melhor."
      ]
    },
    {
      "cell_type": "markdown",
      "metadata": {
        "id": "owImZJ-x3U9a"
      },
      "source": [
        "## Separando treino e teste\n",
        "\n",
        "Vamos separar aleatoriamente uma porção dos nossos dados para treinar nosso modelo e outra parcela para verificar a precição do nosso modelo."
      ]
    },
    {
      "cell_type": "code",
      "metadata": {
        "id": "KWmJoFMu3Rd6"
      },
      "source": [
        "# função de separação treino e teste\n",
        "from sklearn.model_selection import train_test_split\n",
        "\n",
        "# Separando as partes das respostas 'Survived' dos atributos.\n",
        "X = treino[0::, 1::]\n",
        "y = treino[0::, 0]\n",
        "\n",
        "X = X.astype(int)\n",
        "y = y.astype(int)"
      ],
      "execution_count": 203,
      "outputs": []
    },
    {
      "cell_type": "markdown",
      "metadata": {
        "id": "vTU-6tZk4bAb"
      },
      "source": [
        "Essa parte pode parecer meio confusa, nós vamos criar uma lista para as parcelas de treino e teste, ao invés de fazer só uma separação.\n",
        "\n",
        "A lista vai conter `rep` (número) valores aleatórios de treino e teste.\n",
        "\n",
        "Por que fazer isso? \n",
        "Quando usamos a função train_test_split, estamos sujeitos a aleatoriedade, que de certa forma tem um pouco de influencia nos resultados finais, então para não correr o risco de cair em uma solução errada, nós tiraremos a média dessas listas aleatórias, diminuindo o fator de aleatoriedade."
      ]
    },
    {
      "cell_type": "code",
      "metadata": {
        "id": "UqGgf0dD4ZBn"
      },
      "source": [
        "X_treino_lista, X_teste_lista, y_treino_lista, y_teste_lista = [], [], [], []\n",
        "\n",
        "rep = 15\n",
        "for i in range(rep):\n",
        "  X_treino, X_teste, y_treino, y_teste = train_test_split(X,\n",
        "                                                      y,\n",
        "                                                      random_state= i)\n",
        "  X_treino_lista.append(X_treino)\n",
        "  X_teste_lista.append(X_teste)\n",
        "  y_treino_lista.append(y_treino)\n",
        "  y_teste_lista.append(y_teste)"
      ],
      "execution_count": 204,
      "outputs": []
    },
    {
      "cell_type": "markdown",
      "metadata": {
        "id": "pqbbyW086WkF"
      },
      "source": [
        "Agora faremos um teste de precisão com cada um dos classificadores e tiraremos a média de cada um para saber qual foi o melhor."
      ]
    },
    {
      "cell_type": "code",
      "metadata": {
        "colab": {
          "base_uri": "https://localhost:8080/"
        },
        "id": "tjiFlniF6Uk_",
        "outputId": "c2ad9c97-cd53-47d9-84ef-d8a555e1d150"
      },
      "source": [
        "# função que mede a precisão\n",
        "from sklearn.metrics import accuracy_score\n",
        "\n",
        "precisoes_media = []\n",
        "\n",
        "for clf in classificadores:\n",
        "  precisao = []\n",
        "  for i in range(rep):\n",
        "    #treinamento\n",
        "    clf.fit(X_treino_lista[i], y_treino_lista[i])\n",
        "    #previsão\n",
        "    previsao = clf.predict(X_teste_lista[i])\n",
        "    #teste de precisão\n",
        "    precisao.append(accuracy_score(previsao, y_teste_lista[i]))\n",
        "  precisoes_media.append(np.mean(precisao))\n",
        "\n",
        "precisoes_media"
      ],
      "execution_count": 205,
      "outputs": [
        {
          "output_type": "execute_result",
          "data": {
            "text/plain": [
              "[0.8044843049327354, 0.7551569506726458, 0.797608370702541, 0.7856502242152466]"
            ]
          },
          "metadata": {
            "tags": []
          },
          "execution_count": 205
        }
      ]
    },
    {
      "cell_type": "markdown",
      "metadata": {
        "id": "blHq8b6N79w9"
      },
      "source": [
        "A partir dos resultados, se olharmos as ordens das precisões, o calssificador que se saiu melhor foi o `RandomForestClassifier` com `0.8017937219730941` o que equivale a 80% de acerto."
      ]
    }
  ]
}